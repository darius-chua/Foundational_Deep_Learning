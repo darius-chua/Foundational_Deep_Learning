{
  "nbformat": 4,
  "nbformat_minor": 0,
  "metadata": {
    "colab": {
      "provenance": []
    },
    "kernelspec": {
      "name": "python3",
      "display_name": "Python 3"
    },
    "language_info": {
      "name": "python"
    }
  },
  "cells": [
    {
      "cell_type": "markdown",
      "source": [
        "Augmentation"
      ],
      "metadata": {
        "id": "509lzK-zq5PQ"
      }
    },
    {
      "cell_type": "code",
      "source": [
        "import os\n",
        "import numpy as np\n",
        "import pandas as pd\n",
        "import cv2\n",
        "\n",
        "from google.colab import drive\n",
        "from google.colab import files\n",
        "\n",
        "drive = drive.mount('/content/drive')"
      ],
      "metadata": {
        "colab": {
          "base_uri": "https://localhost:8080/"
        },
        "id": "ySoJRDeUrIry",
        "outputId": "b8b002ec-cf95-443c-ae6b-3b32f911d66d"
      },
      "execution_count": null,
      "outputs": [
        {
          "output_type": "stream",
          "name": "stdout",
          "text": [
            "Mounted at /content/drive\n"
          ]
        }
      ]
    },
    {
      "cell_type": "code",
      "source": [
        "\n",
        "train_images = r'/content/drive/MyDrive/DSBA/Hurricane_Harvey/rasters/train'\n",
        "train_masks = r'/content/drive/MyDrive/DSBA/Hurricane_Harvey/vectors/random-split-_2022_11_17-22_35_45/Masks'\n",
        "\n",
        "train_files = os.listdir(train_images)\n",
        "train_files = [x.split('.')[0] for x in train_files if x[0].isnumeric()]\n",
        "train_files = np.array(train_files)\n",
        "len(train_files)"
      ],
      "metadata": {
        "colab": {
          "base_uri": "https://localhost:8080/"
        },
        "id": "cKv8EFdqq3-A",
        "outputId": "3ff51202-8af5-4512-c182-effe0229f843"
      },
      "execution_count": null,
      "outputs": [
        {
          "output_type": "execute_result",
          "data": {
            "text/plain": [
              "299"
            ]
          },
          "metadata": {},
          "execution_count": 8
        }
      ]
    },
    {
      "cell_type": "code",
      "source": [
        "aug_train = r'/content/drive/MyDrive/DSBA/Hurricane_Harvey/augmented/train'\n",
        "aug_mask = r'/content/drive/MyDrive/DSBA/Hurricane_Harvey/augmented/mask'"
      ],
      "metadata": {
        "id": "MfTpHeBjuaCF"
      },
      "execution_count": null,
      "outputs": []
    },
    {
      "cell_type": "code",
      "source": [
        "for file_name in train_files:\n",
        "\n",
        "  train_image = cv2.imread(f'{train_images}/{file_name}.tif')\n",
        "  train_image = cv2.cvtColor(train_image, cv2.COLOR_BGR2RGB)\n",
        "  mask_image = cv2.imread(f'{train_masks}/{file_name}.png', cv2.IMREAD_GRAYSCALE)\n",
        "\n",
        "  cv2.imwrite(f'{aug_train}/{file_name}.tif',train_image)\n",
        "  cv2.imwrite(f'{aug_mask}/{file_name}.png',mask_image)\n",
        "\n",
        "  #Rotate\n",
        "  train_rotate_cw = cv2.rotate(train_image, cv2.ROTATE_90_CLOCKWISE)\n",
        "  train_rotate_ccw = cv2.rotate(train_image, cv2.ROTATE_90_COUNTERCLOCKWISE)\n",
        "  train_rotate_180 = cv2.rotate(train_image, cv2.ROTATE_180)\n",
        "\n",
        "  mask_rotate_cw = cv2.rotate(mask_image, cv2.ROTATE_90_CLOCKWISE)\n",
        "  mask_rotate_ccw = cv2.rotate(mask_image, cv2.ROTATE_90_COUNTERCLOCKWISE)\n",
        "  mask_rotate_180 = cv2.rotate(mask_image, cv2.ROTATE_180)\n",
        "\n",
        "  cv2.imwrite(f'{aug_train}/{file_name}_rotate_cw.tif',train_rotate_cw)\n",
        "  cv2.imwrite(f'{aug_train}/{file_name}_rotate_ccw.tif',train_rotate_ccw)\n",
        "  cv2.imwrite(f'{aug_train}/{file_name}_rotate_180.tif',train_rotate_180)\n",
        "\n",
        "  cv2.imwrite(f'{aug_mask}/{file_name}_rotate_cw.png',mask_rotate_cw)\n",
        "  cv2.imwrite(f'{aug_mask}/{file_name}_rotate_ccw.png',mask_rotate_ccw)\n",
        "  cv2.imwrite(f'{aug_mask}/{file_name}_rotate_180.png',mask_rotate_180)\n",
        "\n",
        "  #Flip\n",
        "\n",
        "  train_v_flip = cv2.flip(train_image, 0)\n",
        "  train_h_flip = cv2.flip(train_image, 1)\n",
        "  train_d_flip = cv2.flip(train_image, -1)\n",
        "\n",
        "  mask_v_flip = cv2.flip(mask_image, 0)\n",
        "  mask_h_flip = cv2.flip(mask_image, 1)\n",
        "  mask_d_flip = cv2.flip(mask_image, -1)\n",
        "\n",
        "  cv2.imwrite(f'{aug_train}/{file_name}_v_flip.tif',train_v_flip)\n",
        "  cv2.imwrite(f'{aug_train}/{file_name}_h_flip.tif',train_h_flip)\n",
        "  cv2.imwrite(f'{aug_train}/{file_name}_d_flip.tif',train_d_flip)\n",
        "\n",
        "  cv2.imwrite(f'{aug_mask}/{file_name}_v_flip.png',mask_v_flip)\n",
        "  cv2.imwrite(f'{aug_mask}/{file_name}_h_flip.png',mask_h_flip)\n",
        "  cv2.imwrite(f'{aug_mask}/{file_name}_d_flip.png',mask_d_flip)\n",
        "\n"
      ],
      "metadata": {
        "colab": {
          "base_uri": "https://localhost:8080/",
          "height": 235
        },
        "id": "okJEtaR4rl6Q",
        "outputId": "ae9e9f8d-38f6-4988-dd18-4453bd29255b"
      },
      "execution_count": null,
      "outputs": [
        {
          "output_type": "error",
          "ename": "KeyboardInterrupt",
          "evalue": "ignored",
          "traceback": [
            "\u001b[0;31m---------------------------------------------------------------------------\u001b[0m",
            "\u001b[0;31mKeyboardInterrupt\u001b[0m                         Traceback (most recent call last)",
            "\u001b[0;32m<ipython-input-12-6dcb59e7eae2>\u001b[0m in \u001b[0;36m<module>\u001b[0;34m\u001b[0m\n\u001b[1;32m     18\u001b[0m \u001b[0;34m\u001b[0m\u001b[0m\n\u001b[1;32m     19\u001b[0m   \u001b[0mcv2\u001b[0m\u001b[0;34m.\u001b[0m\u001b[0mimwrite\u001b[0m\u001b[0;34m(\u001b[0m\u001b[0;34mf'{aug_train}/{file_name}_rotate_cw.tif'\u001b[0m\u001b[0;34m,\u001b[0m\u001b[0mtrain_rotate_cw\u001b[0m\u001b[0;34m)\u001b[0m\u001b[0;34m\u001b[0m\u001b[0;34m\u001b[0m\u001b[0m\n\u001b[0;32m---> 20\u001b[0;31m   \u001b[0mcv2\u001b[0m\u001b[0;34m.\u001b[0m\u001b[0mimwrite\u001b[0m\u001b[0;34m(\u001b[0m\u001b[0;34mf'{aug_train}/{file_name}_rotate_ccw.tif'\u001b[0m\u001b[0;34m,\u001b[0m\u001b[0mtrain_rotate_ccw\u001b[0m\u001b[0;34m)\u001b[0m\u001b[0;34m\u001b[0m\u001b[0;34m\u001b[0m\u001b[0m\n\u001b[0m\u001b[1;32m     21\u001b[0m   \u001b[0mcv2\u001b[0m\u001b[0;34m.\u001b[0m\u001b[0mimwrite\u001b[0m\u001b[0;34m(\u001b[0m\u001b[0;34mf'{aug_train}/{file_name}_rotate_180.tif'\u001b[0m\u001b[0;34m,\u001b[0m\u001b[0mtrain_rotate_180\u001b[0m\u001b[0;34m)\u001b[0m\u001b[0;34m\u001b[0m\u001b[0;34m\u001b[0m\u001b[0m\n\u001b[1;32m     22\u001b[0m \u001b[0;34m\u001b[0m\u001b[0m\n",
            "\u001b[0;31mKeyboardInterrupt\u001b[0m: "
          ]
        }
      ]
    }
  ]
}